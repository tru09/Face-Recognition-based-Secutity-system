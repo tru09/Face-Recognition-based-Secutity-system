{
  "nbformat": 4,
  "nbformat_minor": 0,
  "metadata": {
    "accelerator": "GPU",
    "colab": {
      "name": "pred_np_model.ipynb",
      "provenance": [],
      "collapsed_sections": []
    },
    "kernelspec": {
      "display_name": "Python 3",
      "name": "python3"
    }
  },
  "cells": [
    {
      "cell_type": "code",
      "metadata": {
        "id": "a9BMofxD62PE"
      },
      "source": [
        "import os\n",
        "import imageio\n",
        "import matplotlib.pyplot as plt\n",
        "import numpy as np\n",
        "from numpy import asarray\n",
        "import cv2"
      ],
      "execution_count": null,
      "outputs": []
    },
    {
      "cell_type": "code",
      "metadata": {
        "id": "OkNaa6AL5yBH"
      },
      "source": [
        "X_train = []\n",
        "y_train = []\n",
        "X_test = []\n",
        "y_test = []\n",
        "cls=-1"
      ],
      "execution_count": null,
      "outputs": []
    },
    {
      "cell_type": "code",
      "metadata": {
        "id": "JloxReHc6_CS"
      },
      "source": [
        "for name in os.listdir(\"/content/drive/MyDrive/training\"):\n",
        "  cls+=1\n",
        "  i=0\n",
        "  for img in os.listdir(os.path.join(\"/content/drive/MyDrive/training\",name)):\n",
        "    img = imageio.imread(os.path.join(\"/content/drive/MyDrive/training\",name,img))\n",
        "    resized_image = cv2.resize(img, (128,128)) \n",
        "    gray = cv2.cvtColor(resized_image, cv2.COLOR_BGR2GRAY)\n",
        "    if i<175:\n",
        "      X_train.append(gray)\n",
        "      y_train.append(cls)\n",
        "    else:\n",
        "      X_test.append(gray)\n",
        "      y_test.append(cls)\n",
        "    i+=1\n",
        "    "
      ],
      "execution_count": null,
      "outputs": []
    },
    {
      "cell_type": "code",
      "metadata": {
        "id": "icvfy5jn8b_H"
      },
      "source": [
        "X_train = np.array(X_train,dtype='float32')/255\n",
        "y_train = np.array(y_train)\n",
        "X_test = np.array(X_test,dtype='float32')/255\n",
        "y_test = np.array(y_test)"
      ],
      "execution_count": null,
      "outputs": []
    },
    {
      "cell_type": "code",
      "metadata": {
        "colab": {
          "base_uri": "https://localhost:8080/"
        },
        "id": "ka749uiJAQTR",
        "outputId": "facb617d-653b-484a-86c7-b42cf31a212e"
      },
      "source": [
        "print(X_train.shape,y_train.shape)\n",
        "print(X_test.shape,y_test.shape)"
      ],
      "execution_count": null,
      "outputs": [
        {
          "output_type": "stream",
          "text": [
            "(525, 128, 128) (525,)\n",
            "(76, 128, 128) (76,)\n"
          ],
          "name": "stdout"
        }
      ]
    },
    {
      "cell_type": "code",
      "metadata": {
        "colab": {
          "base_uri": "https://localhost:8080/"
        },
        "id": "bThNVOyNg9zg",
        "outputId": "193b6a8f-1662-421f-96fe-31003ac5b0e4"
      },
      "source": [
        "print(np.any(np.isnan(X_test)))\r\n",
        "print(np.any(np.isnan(y_test)))"
      ],
      "execution_count": null,
      "outputs": [
        {
          "output_type": "stream",
          "text": [
            "False\n",
            "False\n"
          ],
          "name": "stdout"
        }
      ]
    },
    {
      "cell_type": "code",
      "metadata": {
        "id": "DwpDSwnL6--p"
      },
      "source": [
        "import keras\n",
        "from keras.models import Sequential\n",
        "from keras.layers import Conv2D, MaxPooling2D, Dense, Flatten, Dropout,BatchNormalization,Activation\n",
        "from keras.optimizers import Adam\n",
        "from keras.callbacks import TensorBoard\n",
        "\n",
        "import numpy as np\n",
        "import pandas as pd\n",
        "import matplotlib.pyplot as plt\n",
        "from sklearn.model_selection import train_test_split\n",
        "\n",
        "from sklearn.metrics import confusion_matrix\n",
        "from sklearn.metrics import classification_report\n",
        "from sklearn.metrics import roc_curve, auc\n",
        "from sklearn.metrics import accuracy_score\n",
        "from keras.utils import np_utils\n",
        "import itertools"
      ],
      "execution_count": null,
      "outputs": []
    },
    {
      "cell_type": "code",
      "metadata": {
        "id": "UXEZaANK9OFl"
      },
      "source": [
        "x_train, x_valid, y_train, y_valid= train_test_split(X_train, y_train, test_size=0.2, random_state=1234)"
      ],
      "execution_count": null,
      "outputs": []
    },
    {
      "cell_type": "code",
      "metadata": {
        "colab": {
          "base_uri": "https://localhost:8080/"
        },
        "id": "DyAWpnldBhQ_",
        "outputId": "46798105-609b-4423-d9ef-13367fe4504d"
      },
      "source": [
        "print(x_train.shape, x_valid.shape, y_train.shape, y_valid.shape)"
      ],
      "execution_count": null,
      "outputs": [
        {
          "output_type": "stream",
          "text": [
            "(420, 128, 128) (105, 128, 128) (420,) (105,)\n"
          ],
          "name": "stdout"
        }
      ]
    },
    {
      "cell_type": "code",
      "metadata": {
        "id": "1M4Z6C8i9OBs"
      },
      "source": [
        "im_rows=128\n",
        "im_cols=128\n",
        "batch_size=265\n",
        "im_shape=(im_rows, im_cols,1)\n",
        "\n",
        "#change the size of images\n",
        "x_train = x_train.reshape(x_train.shape[0], *im_shape)\n",
        "x_test = X_test.reshape(X_test.shape[0], *im_shape)\n",
        "x_valid = x_valid.reshape(x_valid.shape[0], *im_shape)"
      ],
      "execution_count": null,
      "outputs": []
    },
    {
      "cell_type": "code",
      "metadata": {
        "colab": {
          "base_uri": "https://localhost:8080/"
        },
        "id": "KYv7vO-MDAiD",
        "outputId": "7eb18946-1cbb-4513-edc5-d19a700f9644"
      },
      "source": [
        "print('x_train shape: {}'.format(x_train.shape))\n",
        "print('x_test shape: {}'.format(x_test.shape))\n",
        "print('x_valid shape: {}'.format(x_valid.shape))"
      ],
      "execution_count": null,
      "outputs": [
        {
          "output_type": "stream",
          "text": [
            "x_train shape: (420, 128, 128, 1)\n",
            "x_test shape: (76, 128, 128, 1)\n",
            "x_valid shape: (105, 128, 128, 1)\n"
          ],
          "name": "stdout"
        }
      ]
    },
    {
      "cell_type": "code",
      "metadata": {
        "colab": {
          "base_uri": "https://localhost:8080/"
        },
        "id": "LerWN1A8QW5o",
        "outputId": "86763a0d-0f48-4ff4-fbcb-4e62b04b7ec0"
      },
      "source": [
        "print(type(x_train))"
      ],
      "execution_count": null,
      "outputs": [
        {
          "output_type": "stream",
          "text": [
            "<class 'numpy.ndarray'>\n"
          ],
          "name": "stdout"
        }
      ]
    },
    {
      "cell_type": "code",
      "metadata": {
        "id": "gaakiVPicdo5"
      },
      "source": [
        "# from keras.utils import to_categorical\r\n",
        "# y_train=to_categorical(y_train)\r\n",
        "# y_test=to_categorical(y_test)\r\n",
        "# y_valid=to_categorical(y_valid)"
      ],
      "execution_count": null,
      "outputs": []
    },
    {
      "cell_type": "code",
      "metadata": {
        "id": "IyxzsOo09N-R"
      },
      "source": [
        "#used model\n",
        "cnn_model= Sequential([\n",
        "    Conv2D(filters=36, kernel_size=3, activation='relu', input_shape= im_shape),\n",
        "    MaxPooling2D(pool_size=2),\n",
        "    Conv2D(filters=54, kernel_size=2, activation='relu'),\n",
        "    MaxPooling2D(pool_size=2),\n",
        "    Flatten(),\n",
        "    Dense(1024, activation='relu'),\n",
        "    Dropout(0.2),\n",
        "    Dense(512, activation='relu'),\n",
        "    Dropout(0.3),\n",
        "    Dense(256, activation='relu'),\n",
        "    #20 is the number of outputs\n",
        "    Dense(2, activation='softmax')  \n",
        "])\n",
        "\n",
        "cnn_model.compile(\n",
        "    loss='sparse_categorical_crossentropy',#'categorical_crossentropy',\n",
        "    optimizer=Adam(lr=0.0001),#Adam(lr=0.001)\n",
        "    metrics=['accuracy']\n",
        ")"
      ],
      "execution_count": null,
      "outputs": []
    },
    {
      "cell_type": "code",
      "metadata": {
        "id": "VR8IDxaebuNu"
      },
      "source": [
        "model = Sequential()\n",
        "\n",
        "model.add(Conv2D(32, (3, 3), input_shape=(128,128,1)))\n",
        "model.add(Activation(\"relu\"))\n",
        "\n",
        "model.add(Conv2D(64, (3, 3)))\n",
        "model.add(BatchNormalization())\n",
        "model.add(Activation(\"relu\"))\n",
        "\n",
        "model.add(Conv2D(64, (1, 1)))\n",
        "model.add(Dropout(0.2))\n",
        "#model.add(BatchNormalization())\n",
        "model.add(Activation(\"relu\"))\n",
        "\n",
        "model.add(Conv2D(128, (3, 3)))\n",
        "model.add(Dropout(0.3))\n",
        "model.add(Activation(\"relu\"))\n",
        "\n",
        "model.add(MaxPooling2D(pool_size=(2,2)))\n",
        "\n",
        "model.add(Conv2D(64, (1, 1)))\n",
        "model.add(Activation(\"relu\"))\n",
        "\n",
        "model.add(Flatten())\n",
        "model.add(Dense(32))\n",
        "model.add(Dense(3))\n",
        "model.add(Activation(\"softmax\"))\n",
        "\n",
        "model.compile(loss='sparse_categorical_crossentropy',\n",
        "              optimizer='adam',\n",
        "              metrics=['accuracy'])"
      ],
      "execution_count": null,
      "outputs": []
    },
    {
      "cell_type": "code",
      "metadata": {
        "colab": {
          "base_uri": "https://localhost:8080/"
        },
        "id": "IH8cgfur9N5s",
        "outputId": "9dde3ee3-f9e2-4ede-d49b-06885e6cac63"
      },
      "source": [
        "history=model.fit(\n",
        "    np.array(x_train), np.array(y_train),\n",
        "    batch_size=32,\n",
        "    epochs=25,\n",
        "    shuffle=True,\n",
        "    validation_data=(np.array(x_valid),np.array(y_valid)),\n",
        ")"
      ],
      "execution_count": null,
      "outputs": [
        {
          "output_type": "stream",
          "text": [
            "Epoch 1/25\n",
            "14/14 [==============================] - 2s 133ms/step - loss: 4.0251 - accuracy: 0.7295 - val_loss: 2.3733 - val_accuracy: 0.2952\n",
            "Epoch 2/25\n",
            "14/14 [==============================] - 2s 122ms/step - loss: 0.3370 - accuracy: 0.9858 - val_loss: 6.2437 - val_accuracy: 0.2952\n",
            "Epoch 3/25\n",
            "14/14 [==============================] - 2s 121ms/step - loss: 0.0000e+00 - accuracy: 1.0000 - val_loss: 4.0189 - val_accuracy: 0.2952\n",
            "Epoch 4/25\n",
            "14/14 [==============================] - 2s 121ms/step - loss: 0.0000e+00 - accuracy: 1.0000 - val_loss: 2.9511 - val_accuracy: 0.2952\n",
            "Epoch 5/25\n",
            "14/14 [==============================] - 2s 120ms/step - loss: 0.0000e+00 - accuracy: 1.0000 - val_loss: 2.2425 - val_accuracy: 0.3905\n",
            "Epoch 6/25\n",
            "14/14 [==============================] - 2s 121ms/step - loss: 0.0000e+00 - accuracy: 1.0000 - val_loss: 1.7285 - val_accuracy: 0.5048\n",
            "Epoch 7/25\n",
            "14/14 [==============================] - 2s 122ms/step - loss: 0.0000e+00 - accuracy: 1.0000 - val_loss: 1.3351 - val_accuracy: 0.5524\n",
            "Epoch 8/25\n",
            "14/14 [==============================] - 2s 121ms/step - loss: 0.0000e+00 - accuracy: 1.0000 - val_loss: 0.9991 - val_accuracy: 0.5905\n",
            "Epoch 9/25\n",
            "14/14 [==============================] - 2s 121ms/step - loss: 0.0000e+00 - accuracy: 1.0000 - val_loss: 0.7026 - val_accuracy: 0.6000\n",
            "Epoch 10/25\n",
            "14/14 [==============================] - 2s 121ms/step - loss: 0.0000e+00 - accuracy: 1.0000 - val_loss: 0.4627 - val_accuracy: 0.6286\n",
            "Epoch 11/25\n",
            "14/14 [==============================] - 2s 121ms/step - loss: 0.0000e+00 - accuracy: 1.0000 - val_loss: 0.2680 - val_accuracy: 0.8286\n",
            "Epoch 12/25\n",
            "14/14 [==============================] - 2s 121ms/step - loss: 0.0000e+00 - accuracy: 1.0000 - val_loss: 0.1443 - val_accuracy: 0.9810\n",
            "Epoch 13/25\n",
            "14/14 [==============================] - 2s 121ms/step - loss: 0.0000e+00 - accuracy: 1.0000 - val_loss: 0.0689 - val_accuracy: 1.0000\n",
            "Epoch 14/25\n",
            "14/14 [==============================] - 2s 122ms/step - loss: 0.0000e+00 - accuracy: 1.0000 - val_loss: 0.0330 - val_accuracy: 1.0000\n",
            "Epoch 15/25\n",
            "14/14 [==============================] - 2s 122ms/step - loss: 0.0000e+00 - accuracy: 1.0000 - val_loss: 0.0162 - val_accuracy: 1.0000\n",
            "Epoch 16/25\n",
            "14/14 [==============================] - 2s 122ms/step - loss: 0.0000e+00 - accuracy: 1.0000 - val_loss: 0.0079 - val_accuracy: 1.0000\n",
            "Epoch 17/25\n",
            "14/14 [==============================] - 2s 122ms/step - loss: 0.0000e+00 - accuracy: 1.0000 - val_loss: 0.0036 - val_accuracy: 1.0000\n",
            "Epoch 18/25\n",
            "14/14 [==============================] - 2s 122ms/step - loss: 0.0000e+00 - accuracy: 1.0000 - val_loss: 0.0016 - val_accuracy: 1.0000\n",
            "Epoch 19/25\n",
            "14/14 [==============================] - 2s 122ms/step - loss: 0.0000e+00 - accuracy: 1.0000 - val_loss: 7.4717e-04 - val_accuracy: 1.0000\n",
            "Epoch 20/25\n",
            "14/14 [==============================] - 2s 124ms/step - loss: 0.0000e+00 - accuracy: 1.0000 - val_loss: 3.2671e-04 - val_accuracy: 1.0000\n",
            "Epoch 21/25\n",
            "14/14 [==============================] - 2s 123ms/step - loss: 0.0000e+00 - accuracy: 1.0000 - val_loss: 1.5444e-04 - val_accuracy: 1.0000\n",
            "Epoch 22/25\n",
            "14/14 [==============================] - 2s 122ms/step - loss: 0.0000e+00 - accuracy: 1.0000 - val_loss: 7.1065e-05 - val_accuracy: 1.0000\n",
            "Epoch 23/25\n",
            "14/14 [==============================] - 2s 131ms/step - loss: 0.0000e+00 - accuracy: 1.0000 - val_loss: 3.3333e-05 - val_accuracy: 1.0000\n",
            "Epoch 24/25\n",
            "14/14 [==============================] - 2s 123ms/step - loss: 0.0000e+00 - accuracy: 1.0000 - val_loss: 1.6038e-05 - val_accuracy: 1.0000\n",
            "Epoch 25/25\n",
            "14/14 [==============================] - 2s 123ms/step - loss: 0.0000e+00 - accuracy: 1.0000 - val_loss: 7.9340e-06 - val_accuracy: 1.0000\n"
          ],
          "name": "stdout"
        }
      ]
    },
    {
      "cell_type": "code",
      "metadata": {
        "colab": {
          "base_uri": "https://localhost:8080/"
        },
        "id": "_omzzuxk9N2c",
        "outputId": "270d5fb7-20ef-44af-a0f5-65adb0e6b536"
      },
      "source": [
        "scor = model.evaluate( np.array(x_test),  np.array(y_test), verbose=0)\n",
        "\n",
        "print('test los {:.4f}'.format(scor[0]))\n",
        "print('test acc {:.4f}'.format(scor[1]))"
      ],
      "execution_count": null,
      "outputs": [
        {
          "output_type": "stream",
          "text": [
            "test los 0.0000\n",
            "test acc 1.0000\n"
          ],
          "name": "stdout"
        }
      ]
    },
    {
      "cell_type": "code",
      "metadata": {
        "colab": {
          "base_uri": "https://localhost:8080/"
        },
        "id": "5EGZzaro9NzL",
        "outputId": "26066042-9653-4363-f846-4b35ae4c0692"
      },
      "source": [
        "image = imageio.imread(\"/content/drive/MyDrive/training/Vasudev/Vasudev-21.png\")\r\n",
        "#image = imageio.imread(\"/content/drive/MyDrive/training/vishvesh/vishvesh-124.png\")\r\n",
        "#image = imageio.imread(\"/content/drive/MyDrive/training/shashank/shashank-121.png\")\r\n",
        "\r\n",
        "gray = cv2.cvtColor(image, cv2.COLOR_BGR2GRAY)\r\n",
        "resized_img = cv2.resize(gray,(128,128))\r\n",
        "img = asarray(gray)/255\r\n",
        "img = np.resize(img,(128,128,1))\r\n",
        "img = img.reshape(-1,128,128,1)\r\n",
        "pred = model.predict(img)\r\n",
        "print(pred)"
      ],
      "execution_count": null,
      "outputs": [
        {
          "output_type": "stream",
          "text": [
            "[[5.7645629e-20 1.0000000e+00 1.2020313e-16]]\n"
          ],
          "name": "stdout"
        }
      ]
    },
    {
      "cell_type": "code",
      "metadata": {
        "colab": {
          "base_uri": "https://localhost:8080/"
        },
        "id": "d0GY_lN49NvM",
        "outputId": "a3bf084a-715d-411e-c39b-a2eabde0a76e"
      },
      "source": [
        "ynew = model.predict_classes(x_test)\n",
        "\n",
        "\n",
        "Acc=accuracy_score(y_test, ynew)\n",
        "print(\"accuracy : \")\n",
        "print(Acc)"
      ],
      "execution_count": null,
      "outputs": [
        {
          "output_type": "stream",
          "text": [
            "/usr/local/lib/python3.6/dist-packages/tensorflow/python/keras/engine/sequential.py:450: UserWarning: `model.predict_classes()` is deprecated and will be removed after 2021-01-01. Please use instead:* `np.argmax(model.predict(x), axis=-1)`,   if your model does multi-class classification   (e.g. if it uses a `softmax` last-layer activation).* `(model.predict(x) > 0.5).astype(\"int32\")`,   if your model does binary classification   (e.g. if it uses a `sigmoid` last-layer activation).\n",
            "  warnings.warn('`model.predict_classes()` is deprecated and '\n"
          ],
          "name": "stderr"
        },
        {
          "output_type": "stream",
          "text": [
            "accuracy : \n",
            "1.0\n"
          ],
          "name": "stdout"
        }
      ]
    },
    {
      "cell_type": "code",
      "metadata": {
        "id": "_8j_wAp_9Nra"
      },
      "source": [
        "model.save('drive/MyDrive/model_np3.h5')"
      ],
      "execution_count": null,
      "outputs": []
    },
    {
      "cell_type": "code",
      "metadata": {
        "id": "PyyU7dEDC8-I"
      },
      "source": [
        "from tensorflow.keras.models import load_model\r\n",
        "cnn_model = load_model(\"/content/drive/MyDrive/model_np5\")"
      ],
      "execution_count": null,
      "outputs": []
    },
    {
      "cell_type": "code",
      "metadata": {
        "id": "fWW8ieVesaA5"
      },
      "source": [
        "import cv2\r\n",
        "import imageio\r\n",
        "import numpy as np"
      ],
      "execution_count": null,
      "outputs": []
    },
    {
      "cell_type": "code",
      "metadata": {
        "id": "3uWRmyNPseP_"
      },
      "source": [
        "#image = imageio.imread('ghg.jpg')\r\n",
        "image = imageio.imread(\"drive/MyDrive/training/shashank/shashank-19.png\")\r\n",
        "image = imageio.imread(\"drive/MyDrive/training/vishvesh/vishvesh-100.png\")\r\n",
        "image = imageio.imread(\"drive/MyDrive/training/Vasudev/Vasudev-200.png\")"
      ],
      "execution_count": null,
      "outputs": []
    },
    {
      "cell_type": "code",
      "metadata": {
        "id": "JdHmGqGzd_xM"
      },
      "source": [
        "from IPython.display import display, Javascript\n",
        "from google.colab.output import eval_js\n",
        "from base64 import b64decode\n",
        "\n",
        "def take_photo(filename='photo.jpg', quality=0.8):\n",
        "  js = Javascript('''\n",
        "    async function takePhoto(quality) {\n",
        "      const div = document.createElement('div');\n",
        "      const capture = document.createElement('button');\n",
        "      capture.textContent = 'Capture';\n",
        "      div.appendChild(capture);\n",
        "\n",
        "      const video = document.createElement('video');\n",
        "      video.style.display = 'block';\n",
        "      const stream = await navigator.mediaDevices.getUserMedia({video: true});\n",
        "\n",
        "      document.body.appendChild(div);\n",
        "      div.appendChild(video);\n",
        "      video.srcObject = stream;\n",
        "      await video.play();\n",
        "\n",
        "      // Resize the output to fit the video element.\n",
        "      google.colab.output.setIframeHeight(document.documentElement.scrollHeight, true);\n",
        "\n",
        "      // Wait for Capture to be clicked.\n",
        "      await new Promise((resolve) => capture.onclick = resolve);\n",
        "\n",
        "      const canvas = document.createElement('canvas');\n",
        "      canvas.width = video.videoWidth;\n",
        "      canvas.height = video.videoHeight;\n",
        "      canvas.getContext('2d').drawImage(video, 0, 0);\n",
        "      stream.getVideoTracks()[0].stop();\n",
        "      div.remove();\n",
        "      return canvas.toDataURL('image/jpeg', quality);\n",
        "    }\n",
        "    ''')\n",
        "  display(js)\n",
        "  data = eval_js('takePhoto({})'.format(quality))\n",
        "  binary = b64decode(data.split(',')[1])\n",
        "  with open(filename, 'wb') as f:\n",
        "    f.write(binary)\n",
        "  return filename"
      ],
      "execution_count": null,
      "outputs": []
    },
    {
      "cell_type": "code",
      "metadata": {
        "id": "sY74TE3W8S_f"
      },
      "source": [
        "from IPython.display import Image\n",
        "try:\n",
        "  filename = take_photo()\n",
        "  print('Saved to {}'.format(filename))\n",
        "  # Show the image which was just taken.\n",
        "  display(Image(filename))\n",
        "except Exception as err:\n",
        "  # Errors will be thrown if the user does not have a webcam or if they do not\n",
        "  # grant the page permission to access it.\n",
        "  print(str(err))"
      ],
      "execution_count": null,
      "outputs": []
    },
    {
      "cell_type": "code",
      "metadata": {
        "id": "_Ztf5czZdm9c",
        "colab": {
          "base_uri": "https://localhost:8080/"
        },
        "outputId": "8a32ca76-01c0-449d-83a4-ea9f2f20b685"
      },
      "source": [
        "image = cv2.imread('ghg.jpg')\n",
        "resized_img = cv2.resize(image,(128,128))\n",
        "gray = cv2.cvtColor(resized_img,cv2.COLOR_BGR2GRAY)\n",
        "img = np.reshape(gray,(-1,128,128,1))\n",
        "img = np.array(img)/255\n",
        "pred = model.predict(img)\n",
        "print(pred[0].argmax())\n",
        "print(pred)"
      ],
      "execution_count": null,
      "outputs": [
        {
          "output_type": "stream",
          "text": [
            "1\n",
            "[[5.9617494e-05 9.9994040e-01 9.9995061e-11]]\n"
          ],
          "name": "stdout"
        }
      ]
    },
    {
      "cell_type": "code",
      "metadata": {
        "colab": {
          "base_uri": "https://localhost:8080/",
          "height": 145
        },
        "id": "Xnsumrngg0ta",
        "outputId": "1f0b106b-0647-4e78-e300-45e07851e97f"
      },
      "source": [
        "from google.colab.patches import cv2_imshow\n",
        "cv2_imshow(gray)"
      ],
      "execution_count": null,
      "outputs": [
        {
          "output_type": "display_data",
          "data": {
            "image/png": "[encoded data removed]",
            "text/plain": [
              "<PIL.Image.Image image mode=L size=128x128 at 0x7FB3246B5C88>"
            ]
          },
          "metadata": {
            "tags": []
          }
        }
      ]
    }
  ]
}